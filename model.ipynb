{
  "nbformat": 4,
  "nbformat_minor": 0,
  "metadata": {
    "colab": {
      "provenance": [],
      "gpuType": "T4",
      "include_colab_link": true
    },
    "kernelspec": {
      "name": "python3",
      "display_name": "Python 3"
    },
    "language_info": {
      "name": "python"
    },
    "accelerator": "GPU"
  },
  "cells": [
    {
      "cell_type": "markdown",
      "metadata": {
        "id": "view-in-github",
        "colab_type": "text"
      },
      "source": [
        "<a href=\"https://colab.research.google.com/github/PragyaKumari2203/Image-Captioning-Model/blob/main/model.ipynb\" target=\"_parent\"><img src=\"https://colab.research.google.com/assets/colab-badge.svg\" alt=\"Open In Colab\"/></a>"
      ]
    },
    {
      "cell_type": "code",
      "execution_count": 1,
      "metadata": {
        "id": "syj5gAGrFogu"
      },
      "outputs": [],
      "source": [
        "import torch\n",
        "from torchvision import models, transforms\n",
        "from PIL import Image\n",
        "import os"
      ]
    },
    {
      "cell_type": "code",
      "source": [
        "from google.colab import drive\n",
        "drive.mount('/content/drive')"
      ],
      "metadata": {
        "id": "ecS4IE_BgWR7",
        "outputId": "ddbebce2-83e2-4608-aac2-35975ba876f9",
        "colab": {
          "base_uri": "https://localhost:8080/"
        }
      },
      "execution_count": 2,
      "outputs": [
        {
          "output_type": "stream",
          "name": "stdout",
          "text": [
            "Mounted at /content/drive\n"
          ]
        }
      ]
    },
    {
      "cell_type": "code",
      "source": [
        "\n",
        "def get_image_transforms():\n",
        "    return transforms.Compose([\n",
        "        transforms.Resize(456),                # Resize shorter side to 456 pixels\n",
        "        transforms.CenterCrop(380),            # Crop center 380x380 region\n",
        "        transforms.ToTensor(),                 # Convert to tensor (0-1 range)\n",
        "        transforms.Normalize(\n",
        "            mean=[0.485, 0.456, 0.406],        # ImageNet mean\n",
        "            std=[0.229, 0.224, 0.225]          # ImageNet standard deviation\n",
        "        )\n",
        "    ])\n",
        "\n",
        "def extract_features(image_dir, batch_size=32, device='cuda'):\n",
        "\n",
        "    model = models.efficientnet_b4(weights='DEFAULT')\n",
        "\n",
        "    model = torch.nn.Sequential(*list(model.children())[:-1])\n",
        "    model = model.to(device).eval()\n",
        "\n",
        "    transform = get_image_transforms()\n",
        "\n",
        "    image_files = [f for f in os.listdir(image_dir)\n",
        "                  if f.lower().endswith(('.png', '.jpg', '.jpeg'))]\n",
        "\n",
        "    features = {}\n",
        "\n",
        "    for i in range(0, len(image_files), batch_size):\n",
        "        batch_files = image_files[i:i+batch_size]\n",
        "        batch_images = []\n",
        "\n",
        "        for file in batch_files:\n",
        "\n",
        "            try:\n",
        "                img = Image.open(os.path.join(image_dir, file)).convert('RGB')\n",
        "                batch_images.append(transform(img))\n",
        "            except Exception as e:\n",
        "                print(f\"Skipping {file}: {e}\")\n",
        "                continue\n",
        "\n",
        "        if not batch_images:\n",
        "            continue\n",
        "\n",
        "        batch_tensor = torch.stack(batch_images).to(device)\n",
        "\n",
        "        with torch.no_grad():\n",
        "            batch_features = model(batch_tensor)\n",
        "            batch_features = batch_features.squeeze()\n",
        "\n",
        "\n",
        "        for file, feat in zip(batch_files, batch_features):\n",
        "            features[file] = feat.cpu()\n",
        "\n",
        "    return features\n",
        "\n",
        "\n",
        "\n",
        "\n",
        "features = extract_features(\n",
        "        \"/content/drive/MyDrive/Image Captioning Model Dataset/Flickr8k_Dataset/Flicker8k_Dataset\",\n",
        "        batch_size=64,\n",
        "        device='cuda' if torch.cuda.is_available() else 'cpu'\n",
        "    )\n"
      ],
      "metadata": {
        "id": "D85M7fIzpE5o"
      },
      "execution_count": 5,
      "outputs": []
    },
    {
      "cell_type": "code",
      "source": [
        "print(f\"Number of images processed: {len(features)}\")\n",
        "first_filename = list(features.keys())[0]\n",
        "first_features = features[first_filename]\n",
        "print(f\"\\nFeature details for {first_filename}:\")\n",
        "print(f\"Shape: {first_features.shape}\")\n",
        "print(f\"Data type: {first_features.dtype}\")\n",
        "\n",
        "print(f\"Values:\\n{first_features[:]}\")\n"
      ],
      "metadata": {
        "id": "oCK8aF_Gq2OG",
        "outputId": "8e0d9672-3696-4579-e6be-e7ea380c67ac",
        "colab": {
          "base_uri": "https://localhost:8080/"
        }
      },
      "execution_count": 7,
      "outputs": [
        {
          "output_type": "stream",
          "name": "stdout",
          "text": [
            "Number of images processed: 8091\n",
            "\n",
            "Feature details for 3361990489_92244a58ef.jpg:\n",
            "Shape: torch.Size([1792])\n",
            "Data type: torch.float32\n",
            "Values:\n",
            "tensor([-0.1170, -0.0843, -0.0572,  ...,  0.0172, -0.1116, -0.0325])\n"
          ]
        }
      ]
    }
  ]
}